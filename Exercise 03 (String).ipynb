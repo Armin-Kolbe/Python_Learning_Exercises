{
 "cells": [
  {
   "cell_type": "markdown",
   "id": "ead54e1a",
   "metadata": {},
   "source": [
    "<div style=\"color: white;padding-top:18px;text-align:center;background-color:#257662;border-radius:15px;border: 1px solid white;\"> \n",
    "    <h3>Exercise 3 (String)</h3>\n",
    "</div>"
   ]
  },
  {
   "cell_type": "markdown",
   "id": "9986a78d",
   "metadata": {},
   "source": [
    "<div style=\"color: white;padding-top:18px;text-align:left;background-color:red;border-radius:15px;border: 1px solid white;\"> \n",
    "    <h4>Question 01</h4>\n",
    "    <p>Get a string from user and check length of that, if length of string was even\n",
    "show first half of string otherwise print last half of string.\n",
    "</p>\n",
    "</div>"
   ]
  },
  {
   "cell_type": "code",
   "execution_count": 3,
   "id": "7710ae23",
   "metadata": {},
   "outputs": [
    {
     "name": "stdout",
     "output_type": "stream",
     "text": [
      "fghijk\n"
     ]
    }
   ],
   "source": [
    "string1 = input(\"Please write your message: \")    # Forexample: abcdefghijk\n",
    "if len(string1) % 2 == 0 :\n",
    "  print(string1[:int(len(string1)/2)])\n",
    "else:\n",
    "  print(string1[int(len(string1)/2):])"
   ]
  },
  {
   "cell_type": "markdown",
   "id": "488e01d2",
   "metadata": {},
   "source": [
    "<div style=\"color: white;padding-top:18px;text-align:left;background-color:red;border-radius:15px;border: 1px solid white;\"> \n",
    "    <h4>Question 02 </h4>\n",
    "<p>\n",
    "based on the below text answer to questions.\n",
    "</p>\n",
    "\n",
    "<ul>\n",
    "    <li>\n",
    "        Divide the text into two halves. If length of string is odd, include the middle character in the first half.\n",
    "    </li>\n",
    "    <li>\n",
    "        In the first half of the text, replace all occurrences of the word \"Python\" with \"Java\".\n",
    "    </li>\n",
    "    <li>\n",
    "       In the second half of the text, replace all occurrences of the word \"Python\" with \"C++\" \n",
    "    </li>\n",
    "    <li>\n",
    "        Combine both halves back into a single text and print the modified text\n",
    "    </li>\n",
    "    <li>\n",
    "        How many times was the word \"Python\" replaced in the first half?\n",
    "    </li>\n",
    "    <li>\n",
    "        How many times was the word \"Python\" replaced in the second half?\n",
    "    </li>\n",
    "</ul>\n",
    "\n",
    "<br>\n",
    "<p>Here is the text:</p>\n",
    "\n",
    "<p>\n",
    "    Python is a widely-used programming language known for its simplicity. Python supports various\n",
    "    programming paradigms. Python's code readability makes it a favorite among developers. Python is\n",
    "    ideal for rapidly prototyping applications.\n",
    "</p>\n",
    "\n",
    "</div>"
   ]
  },
  {
   "cell_type": "code",
   "execution_count": 5,
   "id": "0d6db2ad",
   "metadata": {},
   "outputs": [
    {
     "name": "stdout",
     "output_type": "stream",
     "text": [
      "Java is a widely-used programming language known for its simplicity. Java supports various programming paradigms. C++'s code readability makes it a favorite among developers. C++ is ideal for rapidly prototyping applications.\n",
      "There is 2 Python in the first half of the text and 2 Phyton in the secound half of text\n"
     ]
    }
   ],
   "source": [
    "txt = \"Python is a widely-used programming language known for its simplicity. Python supports various programming paradigms. Python's code readability makes it a favorite among developers. Python is ideal for rapidly prototyping applications.\" \n",
    "txt_h1 = txt[:int(len(txt)/2)]\n",
    "txt_h2 = txt[int(len(txt)/2):]\n",
    "new_txt_h1 = txt_h1.replace(\"Python\",\"Java\")\n",
    "new_txt_h2 = txt_h2.replace(\"Python\",\"C++\")\n",
    "new_txt = new_txt_h1 + new_txt_h2\n",
    "substr = \"Python\"\n",
    "amount1 = amount2 = 0\n",
    "print(new_txt)\n",
    "for i in range(int(len(txt_h1))):\n",
    "  if txt_h1[i:i+len(substr)] == substr :\n",
    "    amount1 += 1\n",
    "  if txt_h2[i:i+len(substr)] == substr :\n",
    "    amount2 += 1\n",
    "print(f\"There is {amount1} Python in the first half of the text and {amount2} Phyton in the secound half of text\")\n"
   ]
  },
  {
   "cell_type": "markdown",
   "id": "3c985307",
   "metadata": {},
   "source": [
    "<div style=\"color: white;padding-top:18px;text-align:left;background-color:red;border-radius:15px;border: 1px solid white;\"> \n",
    "    <h4>Question 03 </h4>\n",
    "<p>Write a program that prompts the user to enter a text. The program should then\n",
    "remove all the spaces from the entered text and display the result.</p>\n",
    "\n",
    "</div>"
   ]
  },
  {
   "cell_type": "code",
   "execution_count": 6,
   "id": "708b411c",
   "metadata": {},
   "outputs": [
    {
     "name": "stdout",
     "output_type": "stream",
     "text": [
      "your text without spaces is: \n",
      "ab23dez1\n"
     ]
    }
   ],
   "source": [
    "txt = input(\"Please enter your text: \")   # for example: a  b2 3   dez  1  \n",
    "amount = 0\n",
    "for i in range(int(len(txt))):\n",
    "  if txt[i:i+1] == \" \" :\n",
    "    amount += 1\n",
    "    new_txt = txt.replace(\" \",\"\")\n",
    "print(\"your text without spaces is: \")\n",
    "print(new_txt)"
   ]
  },
  {
   "cell_type": "markdown",
   "id": "151a3fc5",
   "metadata": {},
   "source": [
    "<div style=\"color: white;padding-top:18px;text-align:left;background-color:red;border-radius:15px;border: 1px solid white;\"> \n",
    "    <h4>Question 04 </h4>\n",
    "<p>Write a program that prompts the user to enter two strings. if the second\n",
    "string is present in the first string, remove it, otherwise add the second\n",
    "string at the start and end of the first string. Display the new string in the\n",
    "output.</p>\n",
    "\n",
    "</div>"
   ]
  },
  {
   "cell_type": "code",
   "execution_count": 9,
   "id": "c98a1cd3",
   "metadata": {},
   "outputs": [
    {
     "name": "stdout",
     "output_type": "stream",
     "text": [
      "Python is a  language known for its simplicity. Python supports various  paradigms.\n"
     ]
    }
   ],
   "source": [
    "txt1 = input (\"Please enter your first text: \")   # for example: Python is a widely-used programming language known for its simplicity. Python supports various widely-used programming paradigms.\n",
    "txt2 = input (\"Please enter your second text: \")  # for example: widely-used programming\n",
    "amount = 0\n",
    "for i in range(int(len(txt1))):\n",
    "  if txt1[i:i+len(txt2)] == txt2 :\n",
    "    new_txt1 = txt1.replace(txt2,\"\")\n",
    "    amount += 1  \n",
    "if amount == 0:    \n",
    "  new_txt1 = txt2 + \" \" + txt1 + \" \" + txt2\n",
    "print(new_txt1)"
   ]
  },
  {
   "cell_type": "markdown",
   "id": "9de1dd40",
   "metadata": {},
   "source": [
    "<div style=\"color: white;padding-top:18px;text-align:left;background-color:red;border-radius:15px;border: 1px solid white;\"> \n",
    "    <h4>Question 05 \n",
    "</h4>\n",
    "<p>Write a program that prompts the user to enter a password. The program\n",
    "should validate the password based on the following criteria:</p>\n",
    "\n",
    "<ul>\n",
    "    <li>The length of the password must be exactly 8 characters.</li>\n",
    "    <li>The first four characters of the password must be letters (alphabets).</li>\n",
    "    <li>The last four characters of the password must be digits (numbers).</li>\n",
    "    <li>If the password meets all the above criteria, the program should display \"Valid\".\n",
    "        Otherwise, it should display \"Invalid\".\n",
    "    </li>\n",
    "</ul>\n",
    "\n",
    "</div>"
   ]
  },
  {
   "cell_type": "code",
   "execution_count": 11,
   "id": "3cf76a64",
   "metadata": {},
   "outputs": [
    {
     "name": "stdout",
     "output_type": "stream",
     "text": [
      "Invalid\n"
     ]
    }
   ],
   "source": [
    "pass_word = input(\"Please enter your Password: \")    # for example: abcd 123\n",
    "if len(pass_word) == 8 and pass_word[:4].isalpha() and pass_word[-4:].isdigit() :\n",
    "  print(\"Valid\")\n",
    "else:\n",
    "  print(\"Invalid\")"
   ]
  },
  {
   "cell_type": "markdown",
   "id": "8d033d86",
   "metadata": {},
   "source": [
    "<h2 style=\"color: blue:; background-color: purple\">Good luck</h2>"
   ]
  }
 ],
 "metadata": {
  "kernelspec": {
   "display_name": "Python 3 (ipykernel)",
   "language": "python",
   "name": "python3"
  },
  "language_info": {
   "codemirror_mode": {
    "name": "ipython",
    "version": 3
   },
   "file_extension": ".py",
   "mimetype": "text/x-python",
   "name": "python",
   "nbconvert_exporter": "python",
   "pygments_lexer": "ipython3",
   "version": "3.11.4"
  }
 },
 "nbformat": 4,
 "nbformat_minor": 5
}
