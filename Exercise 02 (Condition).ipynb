{
 "cells": [
  {
   "cell_type": "markdown",
   "id": "1ab2844b",
   "metadata": {},
   "source": [
    "<div style=\"color: white;padding-top:18px;text-align:center;background-color:#257662;border-radius:15px;border: 1px solid white;\"> \n",
    "    <h3>Exercise 2  (Condition)</h3>\n",
    "</div>"
   ]
  },
  {
   "cell_type": "markdown",
   "id": "98cda4ff",
   "metadata": {},
   "source": [
    "<div style=\"color: white;padding-top:18px;text-align:left;background-color:red;border-radius:15px;border: 1px solid white;\"> \n",
    "    <h4>Question 01</h4>\n",
    "<p>Write a program that prompts the user for a letter. If the letter is 'a', 'e', 'i', 'o', or\n",
    "'u', print \"Vowel\". Otherwise, print \"Consonant\".\n",
    "</p>\n",
    "\n",
    "</div>"
   ]
  },
  {
   "cell_type": "code",
   "execution_count": 3,
   "id": "e3856ce6",
   "metadata": {},
   "outputs": [
    {
     "name": "stdout",
     "output_type": "stream",
     "text": [
      "Vowel\n"
     ]
    }
   ],
   "source": [
    "s = input(\"Enter your letter:\")\n",
    "if s == 'a' or s == 'e' or s =='i' or s =='o' or s =='u':\n",
    "    print('Vowel')\n",
    "else:\n",
    "    print(\"Constant\")"
   ]
  },
  {
   "cell_type": "markdown",
   "id": "2cd8aa29",
   "metadata": {},
   "source": [
    "<div style=\"color: white;padding-top:18px;text-align:left;background-color:red;border-radius:15px;border: 1px solid white;\"> \n",
    "    <h4>Question 02</h4>\n",
    "<p>Write a conditional statement to check if a given variable ”number” is within\n",
    "the range 10 to 20 inclusive. Print \"in Range\" if it is, otherwise print \"Out of\n",
    "Range\".\n",
    "</p>\n",
    "\n",
    "</div>"
   ]
  },
  {
   "cell_type": "code",
   "execution_count": 4,
   "id": "ba0c7fe3",
   "metadata": {},
   "outputs": [
    {
     "name": "stdout",
     "output_type": "stream",
     "text": [
      "In Range\n"
     ]
    }
   ],
   "source": [
    "num = int(input(\"Enter your number:\"))\n",
    "if 10<=num<=20:\n",
    "    print(\"In Range\")\n",
    "else:\n",
    "    print(\"Out of Range\")"
   ]
  },
  {
   "cell_type": "markdown",
   "id": "0e761844",
   "metadata": {},
   "source": [
    "<div style=\"color: white;padding-top:18px;text-align:left;background-color:red;border-radius:15px;border: 1px solid white;\"> \n",
    "    <h4>Question 03</h4>\n",
    "<p>Write a program that prompts the user two numbers. Write a conditional\n",
    "statement to check if the sum of them is greater than 20. If yes, print \"Greater\",\n",
    "else print \"Not Greater\". \n",
    "</p>\n",
    "\n",
    "</div>"
   ]
  },
  {
   "cell_type": "code",
   "execution_count": 5,
   "id": "b19324a8",
   "metadata": {},
   "outputs": [
    {
     "name": "stdout",
     "output_type": "stream",
     "text": [
      "Greater\n"
     ]
    }
   ],
   "source": [
    "num1 = float(input(\"Enter Your 1st Number:\"))\n",
    "num2 = float(input(\"Enter Your 2nd Number:\"))\n",
    "\n",
    "sum_ = num1 + num2\n",
    "\n",
    "if sum_> 20:\n",
    "    print(\"Greater\")\n",
    "else:\n",
    "  print(\"Not greater\")"
   ]
  },
  {
   "cell_type": "markdown",
   "id": "d307081e",
   "metadata": {},
   "source": [
    "<div style=\"color: white;padding-top:18px;text-align:left;background-color:red;border-radius:15px;border: 1px solid white;\"> \n",
    "    <h4>Question 04</h4>\n",
    "<p>Write a program that prompts the user for three different colors (as strings).\n",
    "If all three colors are the same, print \"All colors match\". If only two colors\n",
    "match, print \"Two colors match\". If no colors match, print \"No colors match\".\n",
    "</p>\n",
    "\n",
    "</div>"
   ]
  },
  {
   "cell_type": "code",
   "execution_count": 6,
   "id": "0048509d",
   "metadata": {},
   "outputs": [
    {
     "name": "stdout",
     "output_type": "stream",
     "text": [
      "No Color Match!\n"
     ]
    }
   ],
   "source": [
    "color1 = input(\"Enter Color1: \")\n",
    "color2 = input(\"Enter Color2: \")\n",
    "color3 = input(\"Enter Color3: \")\n",
    "\n",
    "if color1==color2==color3:\n",
    "    print(\"All Colors Match!\")\n",
    "elif color1==color2 or color1==color3 or color2==color3:\n",
    "    print(\"Two Color Match!\")\n",
    "else:\n",
    "    print(\"No Color Match!\")"
   ]
  },
  {
   "cell_type": "markdown",
   "id": "8823fa39",
   "metadata": {},
   "source": [
    "<div style=\"color: white;padding-top:18px;text-align:left;background-color:red;border-radius:15px;border: 1px solid white;\"> \n",
    "    <h4>Question 05</h4>\n",
    "<p>define two variables, num1 and num2, that can have different data types (int,\n",
    "float, or str). Your task is to write a Python program that adheres to the\n",
    "following conditions based on the data types of num1 and num2:</p>\n",
    "<ul>\n",
    "<li>If both variables are of type str, concatenate them and print the result</li>\n",
    "<li>If both variables are of type int, print the difference (subtract the second variable from the first).</li>\n",
    "<li>If one variable is of type int and the other variable is of type float, print the result of dividing the\n",
    "integer by the float. If either number is zero, print \"Cannot divide by zero\".</li>\n",
    "<li>For any other combination of data types, print \"Invalid syntax\".</li>\n",
    "</ul>\n",
    "\n",
    "</div>"
   ]
  },
  {
   "cell_type": "code",
   "execution_count": 7,
   "id": "e7c180f5",
   "metadata": {},
   "outputs": [
    {
     "name": "stdout",
     "output_type": "stream",
     "text": [
      "0.7407407407407407\n"
     ]
    }
   ],
   "source": [
    "num1 = 4\n",
    "num2 = 5.4\n",
    "if type(num1) == str and type(num2) == str:\n",
    "  res = num1 + num2\n",
    "elif type(num1) == int and type(num2) == int:\n",
    "  res = num1 - num2\n",
    "elif type(num1) == int and type(num2) == float and num2 != 0:\n",
    "  res = num1 / num2\n",
    "elif type(num1) == int and type(num2) == float:\n",
    "  res = \"Cannot divide by zero\"\n",
    "else:\n",
    "  res = \"Invalid syntax\"\n",
    "print(res)"
   ]
  },
  {
   "cell_type": "markdown",
   "id": "8d033d86",
   "metadata": {},
   "source": [
    "<h2 style=\"color: blue:; background-color: purple\">Good luck</h2>"
   ]
  }
 ],
 "metadata": {
  "kernelspec": {
   "display_name": "Python 3 (ipykernel)",
   "language": "python",
   "name": "python3"
  },
  "language_info": {
   "codemirror_mode": {
    "name": "ipython",
    "version": 3
   },
   "file_extension": ".py",
   "mimetype": "text/x-python",
   "name": "python",
   "nbconvert_exporter": "python",
   "pygments_lexer": "ipython3",
   "version": "3.11.4"
  }
 },
 "nbformat": 4,
 "nbformat_minor": 5
}
