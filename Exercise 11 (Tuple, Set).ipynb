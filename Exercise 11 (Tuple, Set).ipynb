{
 "cells": [
  {
   "cell_type": "markdown",
   "id": "ead54e1a",
   "metadata": {},
   "source": [
    "<div style=\"color: white;padding-top:18px;text-align:center;background-color:#610C9F;border-radius:15px;border: 1px solid white;\"> \n",
    "    <h3>Exercise 11 (Tuple, Set)\n",
    "    </h3>\n",
    "</div>"
   ]
  },
  {
   "cell_type": "markdown",
   "id": "9986a78d",
   "metadata": {},
   "source": [
    "<div style=\"color: white;padding-top:18px;text-align:left;background-color:#940B92;border-radius:15px;border: 1px solid white;\"> \n",
    "    <h4>Question 01 (Tuple)</h4>\n",
    "    <p> Create a Python program with below details:\n",
    "Input a count of students. \n",
    "Collect each student's unique ID, name, and score into tuples. \n",
    "Store these tuples in a list. \n",
    "Input a name to search the list. \n",
    "Display the matching student's details, if found..\n",
    "\n",
    "</p>\n",
    "</div>"
   ]
  },
  {
   "cell_type": "code",
   "execution_count": 16,
   "metadata": {},
   "outputs": [],
   "source": [
    "def isfloat(num):       # check float\n",
    "    try:\n",
    "        float(num)\n",
    "        return True\n",
    "    except ValueError:\n",
    "        return False"
   ]
  },
  {
   "cell_type": "code",
   "execution_count": 17,
   "metadata": {},
   "outputs": [],
   "source": [
    "def check_name():       # check name\n",
    "\n",
    "    n = input (\"Please entar the name of student: (or x for exit) \")\n",
    "    if n == \"\":\n",
    "        check_name()\n",
    "    elif n.lower() == \"x\":\n",
    "        return -2\n",
    "    elif not n.isalpha():\n",
    "        print(\"Error >>> The name mur be only alphabets\")\n",
    "        print(\" >>> not saved >>>\")\n",
    "        return -1\n",
    "    elif n in name:\n",
    "        print(\"Error >>> The name of student already exist\")\n",
    "        print(\" >>> not saved >>>\")\n",
    "        return -1\n",
    "    \n",
    "    return (n)"
   ]
  },
  {
   "cell_type": "code",
   "execution_count": 18,
   "metadata": {},
   "outputs": [],
   "source": [
    "def check_score():         # check score\n",
    "            \n",
    "    s = input (\"Please entar the score of student: (or x for exit) \")\n",
    "    if s == \"\":\n",
    "        check_score()\n",
    "    elif s.lower() == \"x\":\n",
    "        return -2\n",
    "    elif not isfloat(s):\n",
    "        print(\"Error >>> The score must be digit\")\n",
    "        print(\" >>> not saved >>>\")\n",
    "        return -1\n",
    "    elif float(s) > 20 or float(s) < 0:\n",
    "        print(\"Error >>> The score must be between 0 and 20\")\n",
    "        print(\" >>> not saved >>>\") \n",
    "        return -1\n",
    "    \n",
    "    return (s)"
   ]
  },
  {
   "cell_type": "code",
   "execution_count": 27,
   "metadata": {},
   "outputs": [
    {
     "name": "stdout",
     "output_type": "stream",
     "text": [
      "list of students in Tuple:  ('ss', 'aa', 'ff', 'bb')\n",
      "list of scores in Tuple:  (12.0, 15.0, 18.0, 17.5)\n",
      "list of unique ID in Tuple:  ('ST-23-01', 'ST-23-02', 'ST-23-03', 'ST-23-04')\n",
      "List of All in Tuple:  (('ST-23-01', 'ss', 12.0), ('ST-23-02', 'aa', 15.0), ('ST-23-03', 'ff', 18.0), ('ST-23-04', 'bb', 17.5))\n",
      "---------------------------------------------\n",
      "list of students in list:  ['ss', 'aa', 'ff', 'bb']\n",
      "list of scores in list:  [12.0, 15.0, 18.0, 17.5]\n",
      "list of unique ID in list:  ['ST-23-01', 'ST-23-02', 'ST-23-03', 'ST-23-04']\n",
      "List of All in list of Tuples:  [('ST-23-01', 'ss', 12.0), ('ST-23-02', 'aa', 15.0), ('ST-23-03', 'ff', 18.0), ('ST-23-04', 'bb', 17.5)]\n",
      "---------- Details of ss ------------ \n",
      "ID-Code is:  ST-23-01\n",
      "Student Name is:  ss\n",
      "Score is:  12.0\n"
     ]
    }
   ],
   "source": [
    "name = ()     # name tuple\n",
    "score = ()    # score tuple\n",
    "id_code = ()  # id tuple\n",
    "while 1:\n",
    "    nn = check_name()\n",
    "    if nn == -2 :\n",
    "        break\n",
    "    elif nn == -1 :\n",
    "        continue\n",
    "\n",
    "    ss = check_score()\n",
    "    if ss == -2 :\n",
    "        break\n",
    "    if ss == -1 :\n",
    "        continue\n",
    "    \n",
    "    name = name + (nn,)\n",
    "    score = score + (float(ss),)\n",
    "\n",
    "    if name.index(nn) < 9:\n",
    "        c = \"ST-23-0\" + str(name.index(nn) + 1)    # ST for Student + 23 Year + number\n",
    "    else:\n",
    "        c = \"ST-23-\" + str(name.index(nn) + 1)\n",
    "\n",
    "    id_code = id_code + (c,)\n",
    "\n",
    "print(\"list of students in Tuple: \", name)    \n",
    "print(\"list of scores in Tuple: \", score)\n",
    "print(\"list of unique ID in Tuple: \", id_code)\n",
    "\n",
    "a_ = ()\n",
    "all_ = ()\n",
    "for i in range(len(name)):\n",
    "    a =  (id_code[i],) + (name[i],) + (score[i],)    # all in 1 Tuple\n",
    "    all_ = all_ + (a,)\n",
    "\n",
    "print (\"List of All in Tuple: \", all_)\n",
    "\n",
    "name_list = list(name)                      # Modify all in list format\n",
    "score_list = list(score)\n",
    "id_code_list = list(id_code)\n",
    "all_list = list(all_)\n",
    "print(\"---------------------------------------------\")\n",
    "print(\"list of students in list: \", name_list)    \n",
    "print(\"list of scores in list: \", score_list)\n",
    "print(\"list of unique ID in list: \", id_code_list)\n",
    "print (\"List of All in list of Tuples: \", all_list)\n",
    "\n",
    "searched_name = input(\" Please enter the name, that you want to display:  \")   # search this name\n",
    "if not searched_name in name_list :\n",
    "    print(f\"There is no {searched_name} in our list\")\n",
    "else:\n",
    "    print(f\"---------- Details of {searched_name} ------------ \")\n",
    "    print(\"ID-Code is: \" , id_code[name_list.index(searched_name)])\n",
    "    print(\"Student Name is: \" , name_list[name_list.index(searched_name)])\n",
    "    print(\"Score is: \" , score_list[name_list.index(searched_name)])\n",
    "\n"
   ]
  },
  {
   "cell_type": "markdown",
   "id": "488e01d2",
   "metadata": {},
   "source": [
    "<div style=\"color: white;padding-top:18px;text-align:left;background-color:#940B92;border-radius:15px;border: 1px solid white;\"> \n",
    "    <h4>Question 02 (Set)</h4>\n",
    "<p>\n",
    "Given two lists: list1 = [1, 2, 3, 4, 5, 6, 6, 7] and list2 = [5, 6, 7, 8, 9], write a \n",
    "program to create a list that contains only the unique elements from \n",
    "both list1 and list2. (using set)\n",
    "</p>\n"
   ]
  },
  {
   "cell_type": "code",
   "execution_count": 29,
   "id": "0d6db2ad",
   "metadata": {},
   "outputs": [
    {
     "name": "stdout",
     "output_type": "stream",
     "text": [
      "The list is:  [1, 2, 3, 4, 5, 6, 7, 8, 9]\n"
     ]
    }
   ],
   "source": [
    "list1 = [1,2,3,4,5,6,6,7]\n",
    "list2 = [5,6,7,8,9]\n",
    "\n",
    "set1 = set(list1)\n",
    "set2 = set(list2)\n",
    "\n",
    "set1.update(set2)\n",
    "list_ = list(set1)\n",
    "\n",
    "print(\"The list is: \", list_)\n"
   ]
  },
  {
   "cell_type": "markdown",
   "id": "021be85c",
   "metadata": {},
   "source": [
    "<div style=\"color: white;padding-top:18px;text-align:left;background-color:#940B92;border-radius:15px;border: 1px solid white;\"> \n",
    "    <h4>Question 03 (Set)</h4>\n",
    "<p>\n",
    "Given a list items containing strings (filenames with extensions) and \n",
    "integers, write a Python program to extract and display the unique file \n",
    "extensions from the filenames in the list. Non-string items should be \n",
    "ignored.\n",
    "</p>\n",
    "\n",
    "</div>"
   ]
  },
  {
   "cell_type": "code",
   "execution_count": 40,
   "id": "32b3c29d",
   "metadata": {},
   "outputs": [
    {
     "name": "stdout",
     "output_type": "stream",
     "text": [
      "['pdf', 'py', 'css', 'jpg']\n"
     ]
    }
   ],
   "source": [
    "list4 = [23, \"p.py\" , \"n.css\", 37.5 , False, \"h.jpg\", True, \"l.pdf\", \"q.py\", 12, \"m.jpg\" , \"m.py\", \"n.css\"]\n",
    "list5 = []\n",
    "ext = []\n",
    "\n",
    "for i in list4:\n",
    "    if type(i) == str :\n",
    "        list5.append(i)\n",
    "\n",
    "set5 = set(list5)\n",
    "list5 = list(set5)\n",
    "\n",
    "for j in list5 :\n",
    "    ext.append(j.split(\".\")[-1])\n",
    "\n",
    "ext = set(ext)\n",
    "ext = list(ext)\n",
    "\n",
    "print(ext)"
   ]
  },
  {
   "cell_type": "markdown",
   "id": "b6999fc2",
   "metadata": {},
   "source": [
    "<div style=\"color: white;padding-top:18px;text-align:left;background-color:#940B92;border-radius:15px;border: 1px solid white;\"> \n",
    "    <h4>Question 04 (Tuple)</h4>\n",
    "<p>\n",
    " Given dictionary books with book titles and their authors, perform the \n",
    "following:\n",
    "</p>\n",
    "\n",
    "<ul>\n",
    "1.Shallow Copy Experiment:\n",
    "<ul>•Make a shallow copy of books.</ul>\n",
    "<ul>•Add \"Author D\" to \"Book1\" in this copy..</ul>\n",
    "<ul>•Add \"Author D\" to \"Book1\" in this copy.</ul>\n",
    "</ul>\n",
    "<ul>\n",
    "2.Deep Copy Experiment:\n",
    "<ul>•Create a deep copy of books.</ul>\n",
    "<ul>•Add \"Author E\" to \"Book1\" in the deep copy</ul>\n",
    "<ul>•Discuss differences observed between the shallow and deep copy results.</ul>\n",
    "</ul>\n",
    "</div>"
   ]
  },
  {
   "cell_type": "code",
   "execution_count": 55,
   "id": "0bf5d625",
   "metadata": {},
   "outputs": [
    {
     "name": "stdout",
     "output_type": "stream",
     "text": [
      "---------------------- Shallow Copy -----------------------\n",
      "{'Book1': {'title': 'Learn Python', 'authors': ['Author A', 'Author B', 'Author D']}, 'Book2': {'title': 'AI Basics', 'authors': ['Author C']}}\n",
      "{'Book1': {'title': 'Learn Python', 'authors': ['Author A', 'Author B', 'Author D']}, 'Book2': {'title': 'AI Basics', 'authors': ['Author C']}}\n",
      "---------------------- Deep Copy ---------------------------\n",
      "{'Book1': {'title': 'Learn Python', 'authors': ['Author A', 'Author B', 'Author D']}, 'Book2': {'title': 'AI Basics', 'authors': ['Author C']}}\n",
      "{'Book1': {'title': 'Learn Python', 'authors': ['Author A', 'Author B', 'Author D', 'Author E']}, 'Book2': {'title': 'AI Basics', 'authors': ['Author C']}}\n"
     ]
    }
   ],
   "source": [
    "import copy\n",
    "\n",
    "books = {\n",
    "\"Book1\": {\"title\": \"Learn Python\", \"authors\": [\"Author A\", \"Author B\"]},\n",
    "\"Book2\": {\"title\": \"AI Basics\", \"authors\": [\"Author C\"]}\n",
    "}\n",
    "\n",
    "# 1. Shallow Copy: \n",
    "books_copy_sh = dict(books)\n",
    "books_copy_sh[\"Book1\"][\"authors\"].append(\"Author D\")  # add a new item in copy\n",
    "\n",
    "print(\"---------------------- Shallow Copy -----------------------\")\n",
    "print(books)              # Bothe of them original and copy changed that means in shallow copy any \n",
    "print(books_copy_sh)      # chang of one, the other changed too\n",
    "\n",
    "\n",
    "# 2. Deep Copy\n",
    "books_copy_d = copy.deepcopy(books)\n",
    "books_copy_d[\"Book1\"][\"authors\"].append(\"Author E\")  # add a new item in copy\n",
    "\n",
    "print(\"---------------------- Deep Copy ---------------------------\")\n",
    "print(books)              # only one of them changed that means in Deep copy any \n",
    "print(books_copy_d)       # chang of one, the other does not changed "
   ]
  }
 ],
 "metadata": {
  "kernelspec": {
   "display_name": "Python 3 (ipykernel)",
   "language": "python",
   "name": "python3"
  },
  "language_info": {
   "codemirror_mode": {
    "name": "ipython",
    "version": 3
   },
   "file_extension": ".py",
   "mimetype": "text/x-python",
   "name": "python",
   "nbconvert_exporter": "python",
   "pygments_lexer": "ipython3",
   "version": "3.11.6"
  }
 },
 "nbformat": 4,
 "nbformat_minor": 5
}
