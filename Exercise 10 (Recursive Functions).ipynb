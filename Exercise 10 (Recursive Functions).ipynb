{
 "cells": [
  {
   "cell_type": "markdown",
   "id": "0e2c870c",
   "metadata": {},
   "source": [
    "<div style=\"color: white;padding-top:18px;text-align:center;background-color:#610C9F;border-radius:15px;border: 1px solid white;\"> \n",
    "    <h3>Exercise 10 (Recursive Functions)</h3>\n",
    "</div>"
   ]
  },
  {
   "cell_type": "markdown",
   "id": "98cda4ff",
   "metadata": {},
   "source": [
    "<div style=\"color: white;padding-top:18px;text-align:left;background-color:#940B92;border-radius:15px;border: 1px solid white;\"> \n",
    "    <h4>Question 01</h4>\n",
    "<p>\n",
    " Implement a recursive Python function that asks for a student's score \n",
    "until it receives a value between 0 and 20, then returns that valid score.\n",
    "</p>\n",
    "\n",
    "</div>"
   ]
  },
  {
   "cell_type": "code",
   "execution_count": 9,
   "id": "e3856ce6",
   "metadata": {},
   "outputs": [],
   "source": [
    "# Check float\n",
    "def isfloat(num):       \n",
    "    try:\n",
    "        float(num)\n",
    "        return True\n",
    "    except ValueError:\n",
    "        return False\n",
    "\n",
    "# Check is a number\n",
    "def isnum(num):\n",
    "    if not num.isdigit():\n",
    "        if not isfloat(num):\n",
    "            return False\n",
    "    return True\n",
    "\n",
    "# recursive function check number and between 0 and 20\n",
    "def funx(num):\n",
    "    if not isnum(num):\n",
    "        num = input(\"Please enter your number: \")\n",
    "        funx(num)             # recursive\n",
    "    else:       \n",
    "        num = float(num)\n",
    "        \n",
    "        if 0<= num <= 20:\n",
    "            print(f\"{num} is valid\")\n",
    "            return\n",
    "        \n",
    "        num = input(\"Please enter your number: \")\n",
    "        funx(num)             # recursive\n",
    "\n"
   ]
  },
  {
   "cell_type": "code",
   "execution_count": 10,
   "id": "0a6d188f",
   "metadata": {},
   "outputs": [
    {
     "name": "stdout",
     "output_type": "stream",
     "text": [
      "12.5 is valid\n"
     ]
    }
   ],
   "source": [
    "#---------------Main----------------\n",
    "num = input(\"Please enter your number: \")\n",
    "funx(num)  "
   ]
  },
  {
   "cell_type": "markdown",
   "id": "e53e31ab",
   "metadata": {},
   "source": [
    "<div style=\"color: white;padding-top:18px;text-align:left;background-color:#940B92;border-radius:15px;border: 1px solid white;\"> \n",
    "    <h4>Question 02</h4>\n",
    "<p>\n",
    "Create a Python function to multiply all numbers between two user given integers, using recursion.\n",
    "</p>\n",
    "</div>"
   ]
  },
  {
   "cell_type": "code",
   "execution_count": 89,
   "id": "3898639a",
   "metadata": {},
   "outputs": [],
   "source": [
    "def is_int(num):       # check input as int number\n",
    "    while not num.isdigit():\n",
    "        num = input(\"Error!! Please enter again: \")\n",
    "        continue\n",
    "    num = int(num)\n",
    "    return num\n",
    "\n",
    "        \n",
    "def fkt(n1):         # The Product all numbers beetween n2 and n1\n",
    "    if n1 == n2 :\n",
    "        return n1\n",
    "    \n",
    "    return n1 * fkt(n1-1)             # recursive\n",
    "\n"
   ]
  },
  {
   "cell_type": "code",
   "execution_count": 93,
   "id": "33144a8b",
   "metadata": {},
   "outputs": [
    {
     "name": "stdout",
     "output_type": "stream",
     "text": [
      "The Product all numbers beetween 35 and 40 is 2763633600\n"
     ]
    }
   ],
   "source": [
    "#-----------------------Main---------------------\n",
    "num1 = input(\"Please enter your first number: \")\n",
    "n1 = is_int(num1)\n",
    "num2 = input(\"Please enter your second number: \")\n",
    "n2 = is_int(num2)\n",
    "\n",
    "\n",
    "if n2 > n1 :\n",
    "    tmp = n2\n",
    "    n2 = n1\n",
    "    n1 = tmp\n",
    "elif n2 == n1:\n",
    "    print(f\"The First and second number are equal, than the result is the same => {num1} !!\")\n",
    "\n",
    "print(f\"The Product all numbers beetween {n2} and {n1} is {fkt(n1)}\")"
   ]
  }
 ],
 "metadata": {
  "kernelspec": {
   "display_name": "Python 3 (ipykernel)",
   "language": "python",
   "name": "python3"
  },
  "language_info": {
   "codemirror_mode": {
    "name": "ipython",
    "version": 3
   },
   "file_extension": ".py",
   "mimetype": "text/x-python",
   "name": "python",
   "nbconvert_exporter": "python",
   "pygments_lexer": "ipython3",
   "version": "3.11.4"
  }
 },
 "nbformat": 4,
 "nbformat_minor": 5
}
