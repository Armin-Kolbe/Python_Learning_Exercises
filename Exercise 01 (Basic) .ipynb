{
 "cells": [
  {
   "cell_type": "markdown",
   "id": "ead54e1a",
   "metadata": {},
   "source": [
    "<div style=\"color: white;padding-top:18px;text-align:center;background-color:#257662;border-radius:15px;border: 1px solid white;\"> \n",
    "    <h3>Exercise 1 (Basic) </h3>\n",
    "</div>"
   ]
  },
  {
   "cell_type": "markdown",
   "id": "9986a78d",
   "metadata": {},
   "source": [
    "<div style=\"color: white;padding-top:18px;text-align:left;background-color:red;border-radius:15px;border: 1px solid white;\"> \n",
    "    <h4>Question 01:</h4>\n",
    "    <p>1. Change the type of each of the following variables to the requested type.</p>\n",
    "</div>"
   ]
  },
  {
   "cell_type": "markdown",
   "id": "6122d01c",
   "metadata": {},
   "source": [
    "##### convert to int"
   ]
  },
  {
   "cell_type": "code",
   "execution_count": 31,
   "id": "7710ae23",
   "metadata": {},
   "outputs": [
    {
     "name": "stdout",
     "output_type": "stream",
     "text": [
      "12\n"
     ]
    }
   ],
   "source": [
    "# Section 1 code : Correct\n",
    "num1 = 12.45\n",
    "num1 = int(num1)\n",
    "print(num1)"
   ]
  },
  {
   "cell_type": "code",
   "execution_count": 32,
   "id": "286e272a",
   "metadata": {},
   "outputs": [
    {
     "ename": "ValueError",
     "evalue": "invalid literal for int() with base 10: '12.45'",
     "output_type": "error",
     "traceback": [
      "\u001b[0;31m---------------------------------------------------------------------------\u001b[0m",
      "\u001b[0;31mValueError\u001b[0m                                Traceback (most recent call last)",
      "\u001b[1;32m/home/armin/Python/Python Learning/Exercises/E 01-02/answer sheet.ipynb Cell 5\u001b[0m line \u001b[0;36m3\n\u001b[1;32m      <a href='vscode-notebook-cell:/home/armin/Python/Python%20Learning/Exercises/E%2001-02/answer%20sheet.ipynb#X43sZmlsZQ%3D%3D?line=0'>1</a>\u001b[0m \u001b[39m# Section 2 code : Not Correct\u001b[39;00m\n\u001b[1;32m      <a href='vscode-notebook-cell:/home/armin/Python/Python%20Learning/Exercises/E%2001-02/answer%20sheet.ipynb#X43sZmlsZQ%3D%3D?line=1'>2</a>\u001b[0m num2 \u001b[39m=\u001b[39m \u001b[39m\"\u001b[39m\u001b[39m12.45\u001b[39m\u001b[39m\"\u001b[39m       \u001b[39m# num2 is string\u001b[39;00m\n\u001b[0;32m----> <a href='vscode-notebook-cell:/home/armin/Python/Python%20Learning/Exercises/E%2001-02/answer%20sheet.ipynb#X43sZmlsZQ%3D%3D?line=2'>3</a>\u001b[0m num2 \u001b[39m=\u001b[39m \u001b[39mint\u001b[39m(num2)     \u001b[39m# string can not cast to integer, we can first cast to float and the result to intger, like following code\u001b[39;00m\n\u001b[1;32m      <a href='vscode-notebook-cell:/home/armin/Python/Python%20Learning/Exercises/E%2001-02/answer%20sheet.ipynb#X43sZmlsZQ%3D%3D?line=3'>4</a>\u001b[0m \u001b[39mprint\u001b[39m(num2)\n",
      "\u001b[0;31mValueError\u001b[0m: invalid literal for int() with base 10: '12.45'"
     ]
    }
   ],
   "source": [
    "# Section 2 code : Not Correct\n",
    "num2 = \"12.45\"       # num2 is string\n",
    "num2 = int(num2)     # string can not cast to integer, we can first cast to float and the result to intger, like following code\n",
    "print(num2)"
   ]
  },
  {
   "cell_type": "code",
   "execution_count": 33,
   "id": "364034c1",
   "metadata": {},
   "outputs": [
    {
     "name": "stdout",
     "output_type": "stream",
     "text": [
      "12\n"
     ]
    }
   ],
   "source": [
    "# Section 2 code : Corrector\n",
    "num2 = \"12.45\"\n",
    "num2 = float(num2)\n",
    "num2 = int(num2)   \n",
    "print(num2)        # Now It is correct"
   ]
  },
  {
   "cell_type": "code",
   "execution_count": 34,
   "id": "b1d68759",
   "metadata": {},
   "outputs": [
    {
     "name": "stdout",
     "output_type": "stream",
     "text": [
      "1\n"
     ]
    }
   ],
   "source": [
    "# Section 3 code : Correct\n",
    "flag1 = True\n",
    "flag1 = int(flag1)\n",
    "print(flag1)"
   ]
  },
  {
   "cell_type": "code",
   "execution_count": 36,
   "id": "be0cb1b5",
   "metadata": {},
   "outputs": [
    {
     "ename": "ValueError",
     "evalue": "invalid literal for int() with base 10: 'a123'",
     "output_type": "error",
     "traceback": [
      "\u001b[0;31m---------------------------------------------------------------------------\u001b[0m",
      "\u001b[0;31mValueError\u001b[0m                                Traceback (most recent call last)",
      "\u001b[1;32m/home/armin/Python/Python Learning/Exercises/E 01-02/answer sheet.ipynb Cell 8\u001b[0m line \u001b[0;36m3\n\u001b[1;32m      <a href='vscode-notebook-cell:/home/armin/Python/Python%20Learning/Exercises/E%2001-02/answer%20sheet.ipynb#X46sZmlsZQ%3D%3D?line=0'>1</a>\u001b[0m \u001b[39m# Section 4 code : Not Correct\u001b[39;00m\n\u001b[1;32m      <a href='vscode-notebook-cell:/home/armin/Python/Python%20Learning/Exercises/E%2001-02/answer%20sheet.ipynb#X46sZmlsZQ%3D%3D?line=1'>2</a>\u001b[0m code \u001b[39m=\u001b[39m \u001b[39m\"\u001b[39m\u001b[39ma123\u001b[39m\u001b[39m\"\u001b[39m      \u001b[39m# code is string and mixes alphabet and numbers, than can not cast to float or int\u001b[39;00m\n\u001b[0;32m----> <a href='vscode-notebook-cell:/home/armin/Python/Python%20Learning/Exercises/E%2001-02/answer%20sheet.ipynb#X46sZmlsZQ%3D%3D?line=2'>3</a>\u001b[0m code \u001b[39m=\u001b[39m \u001b[39mint\u001b[39m(code)   \u001b[39m# without \"a\" can change to int like following code \u001b[39;00m\n\u001b[1;32m      <a href='vscode-notebook-cell:/home/armin/Python/Python%20Learning/Exercises/E%2001-02/answer%20sheet.ipynb#X46sZmlsZQ%3D%3D?line=3'>4</a>\u001b[0m \u001b[39mprint\u001b[39m(code)\n",
      "\u001b[0;31mValueError\u001b[0m: invalid literal for int() with base 10: 'a123'"
     ]
    }
   ],
   "source": [
    "# Section 4 code : Not Correct\n",
    "code = \"a123\"      # code is string and mixes alphabet and numbers, than can not cast to float or int\n",
    "code = int(code)   # without \"a\" can change to int like following code \n",
    "print(code)"
   ]
  },
  {
   "cell_type": "code",
   "execution_count": 38,
   "id": "927297db",
   "metadata": {},
   "outputs": [
    {
     "name": "stdout",
     "output_type": "stream",
     "text": [
      "123\n"
     ]
    }
   ],
   "source": [
    "# Section 4 code : Corrector\n",
    "code = \"123\"        \n",
    "code = int(code)\n",
    "print(code)"
   ]
  },
  {
   "cell_type": "code",
   "execution_count": 39,
   "id": "c97d7603",
   "metadata": {},
   "outputs": [
    {
     "name": "stdout",
     "output_type": "stream",
     "text": [
      "123\n"
     ]
    }
   ],
   "source": [
    "# Section 5 code : Correct\n",
    "num3 = \"0123\"\n",
    "num3 = int(num3)\n",
    "print(num3)"
   ]
  },
  {
   "cell_type": "markdown",
   "id": "7e869649",
   "metadata": {},
   "source": [
    "##### convert to float"
   ]
  },
  {
   "cell_type": "code",
   "execution_count": 40,
   "id": "00aa9b86",
   "metadata": {},
   "outputs": [
    {
     "name": "stdout",
     "output_type": "stream",
     "text": [
      "10.0\n"
     ]
    }
   ],
   "source": [
    "# Section 1 code : Correct\n",
    "num4 = 10\n",
    "num4 = float(num4)\n",
    "print(num4)"
   ]
  },
  {
   "cell_type": "code",
   "execution_count": 41,
   "id": "5d2b9bb3",
   "metadata": {},
   "outputs": [
    {
     "name": "stdout",
     "output_type": "stream",
     "text": [
      "4.0\n"
     ]
    }
   ],
   "source": [
    "# Section 2 code : Correct\n",
    "num5 = 4.\n",
    "num5 = float(num5)\n",
    "print(num5)"
   ]
  },
  {
   "cell_type": "code",
   "execution_count": 42,
   "id": "3e0c8c21",
   "metadata": {},
   "outputs": [
    {
     "name": "stdout",
     "output_type": "stream",
     "text": [
      "4.7\n"
     ]
    }
   ],
   "source": [
    "# Section 3 code : Correct\n",
    "num6 = \"4.7\"\n",
    "num6 = float(num6)\n",
    "print(num6)"
   ]
  },
  {
   "cell_type": "code",
   "execution_count": 43,
   "id": "fc1aa287",
   "metadata": {},
   "outputs": [
    {
     "name": "stdout",
     "output_type": "stream",
     "text": [
      "51.0\n"
     ]
    }
   ],
   "source": [
    "# Section 4 code : Correct\n",
    "num7 = \"51\"\n",
    "num7 = float(num7)\n",
    "print(num7)"
   ]
  },
  {
   "cell_type": "code",
   "execution_count": 45,
   "id": "7d1c1478",
   "metadata": {},
   "outputs": [
    {
     "ename": "ValueError",
     "evalue": "could not convert string to float: 'python'",
     "output_type": "error",
     "traceback": [
      "\u001b[0;31m---------------------------------------------------------------------------\u001b[0m",
      "\u001b[0;31mValueError\u001b[0m                                Traceback (most recent call last)",
      "\u001b[1;32m/home/armin/Python/Python Learning/Exercises/E 01-02/answer sheet.ipynb Cell 16\u001b[0m line \u001b[0;36m3\n\u001b[1;32m      <a href='vscode-notebook-cell:/home/armin/Python/Python%20Learning/Exercises/E%2001-02/answer%20sheet.ipynb#X60sZmlsZQ%3D%3D?line=0'>1</a>\u001b[0m \u001b[39m# Section 5 code : Not Correct\u001b[39;00m\n\u001b[1;32m      <a href='vscode-notebook-cell:/home/armin/Python/Python%20Learning/Exercises/E%2001-02/answer%20sheet.ipynb#X60sZmlsZQ%3D%3D?line=1'>2</a>\u001b[0m name \u001b[39m=\u001b[39m \u001b[39m\"\u001b[39m\u001b[39mpython\u001b[39m\u001b[39m\"\u001b[39m    \u001b[39m# name is string and mixed of alphabet. we can not change to float because name is mixed of alphabet not numbers.\u001b[39;00m\n\u001b[0;32m----> <a href='vscode-notebook-cell:/home/armin/Python/Python%20Learning/Exercises/E%2001-02/answer%20sheet.ipynb#X60sZmlsZQ%3D%3D?line=2'>3</a>\u001b[0m name \u001b[39m=\u001b[39m \u001b[39mfloat\u001b[39m(name)\n\u001b[1;32m      <a href='vscode-notebook-cell:/home/armin/Python/Python%20Learning/Exercises/E%2001-02/answer%20sheet.ipynb#X60sZmlsZQ%3D%3D?line=3'>4</a>\u001b[0m \u001b[39mprint\u001b[39m(name)\n",
      "\u001b[0;31mValueError\u001b[0m: could not convert string to float: 'python'"
     ]
    }
   ],
   "source": [
    "# Section 5 code : Not Correct\n",
    "name = \"python\"    # name is string and mixed of alphabet. we can not change to float because name is mixed of alphabet not numbers.\n",
    "name = float(name)\n",
    "print(name)"
   ]
  },
  {
   "cell_type": "markdown",
   "id": "c94c8936",
   "metadata": {},
   "source": [
    "##### convert to bool"
   ]
  },
  {
   "cell_type": "code",
   "execution_count": 46,
   "id": "d35d676a",
   "metadata": {},
   "outputs": [
    {
     "name": "stdout",
     "output_type": "stream",
     "text": [
      "False\n"
     ]
    }
   ],
   "source": [
    "# Section 1 code : Correct\n",
    "flag3 = False\n",
    "flag3 = bool(flag3)\n",
    "print(flag3)"
   ]
  },
  {
   "cell_type": "code",
   "execution_count": 47,
   "id": "5dec77c4",
   "metadata": {},
   "outputs": [
    {
     "name": "stdout",
     "output_type": "stream",
     "text": [
      "True\n"
     ]
    }
   ],
   "source": [
    "# Section 2 code : Correct\n",
    "flag4 = \"False\"\n",
    "flag4 = bool(flag4)\n",
    "print(flag4)"
   ]
  },
  {
   "cell_type": "code",
   "execution_count": 49,
   "id": "5998000d",
   "metadata": {},
   "outputs": [
    {
     "ename": "NameError",
     "evalue": "name 'false' is not defined",
     "output_type": "error",
     "traceback": [
      "\u001b[0;31m---------------------------------------------------------------------------\u001b[0m",
      "\u001b[0;31mNameError\u001b[0m                                 Traceback (most recent call last)",
      "\u001b[1;32m/home/armin/Python/Python Learning/Exercises/E 01-02/answer sheet.ipynb Cell 20\u001b[0m line \u001b[0;36m2\n\u001b[1;32m      <a href='vscode-notebook-cell:/home/armin/Python/Python%20Learning/Exercises/E%2001-02/answer%20sheet.ipynb#X63sZmlsZQ%3D%3D?line=0'>1</a>\u001b[0m \u001b[39m# Section 3 code : Not Correct\u001b[39;00m\n\u001b[0;32m----> <a href='vscode-notebook-cell:/home/armin/Python/Python%20Learning/Exercises/E%2001-02/answer%20sheet.ipynb#X63sZmlsZQ%3D%3D?line=1'>2</a>\u001b[0m flag5 \u001b[39m=\u001b[39m false           \u001b[39m# false is differt as False, False is boolean. not false. f and F are different and python take care about great or small alphabet\u001b[39;00m\n\u001b[1;32m      <a href='vscode-notebook-cell:/home/armin/Python/Python%20Learning/Exercises/E%2001-02/answer%20sheet.ipynb#X63sZmlsZQ%3D%3D?line=2'>3</a>\u001b[0m flag5 \u001b[39m=\u001b[39m \u001b[39mbool\u001b[39m(flag5)     \u001b[39m# we can correct it like the following code\u001b[39;00m\n\u001b[1;32m      <a href='vscode-notebook-cell:/home/armin/Python/Python%20Learning/Exercises/E%2001-02/answer%20sheet.ipynb#X63sZmlsZQ%3D%3D?line=3'>4</a>\u001b[0m \u001b[39mprint\u001b[39m(flag5)\n",
      "\u001b[0;31mNameError\u001b[0m: name 'false' is not defined"
     ]
    }
   ],
   "source": [
    "# Section 3 code : Not Correct\n",
    "flag5 = false           # false is differt as False, False is boolean. not false. f and F are different and python take care about great or small alphabet\n",
    "flag5 = bool(flag5)     # we can correct it like the following code\n",
    "print(flag5)"
   ]
  },
  {
   "cell_type": "code",
   "execution_count": 50,
   "id": "88d8db53",
   "metadata": {},
   "outputs": [
    {
     "name": "stdout",
     "output_type": "stream",
     "text": [
      "False\n"
     ]
    }
   ],
   "source": [
    "# Section 3 code : Corrector\n",
    "flag5 = False    \n",
    "flag5 = bool(flag5)   \n",
    "print(flag5)"
   ]
  },
  {
   "cell_type": "code",
   "execution_count": 51,
   "id": "4255b685",
   "metadata": {},
   "outputs": [
    {
     "name": "stdout",
     "output_type": "stream",
     "text": [
      "False\n"
     ]
    }
   ],
   "source": [
    "# Section 4 code : Correct\n",
    "name1 = \"\"\n",
    "name1 = bool(name1)\n",
    "print(name1)"
   ]
  },
  {
   "cell_type": "code",
   "execution_count": 52,
   "id": "0b1eb768",
   "metadata": {},
   "outputs": [
    {
     "name": "stdout",
     "output_type": "stream",
     "text": [
      "True\n"
     ]
    }
   ],
   "source": [
    "# Section 5 code : Correct\n",
    "name2 = \" \"\n",
    "name2 = bool(name2)\n",
    "print(name2)"
   ]
  },
  {
   "cell_type": "code",
   "execution_count": 53,
   "id": "488984b5",
   "metadata": {},
   "outputs": [
    {
     "name": "stdout",
     "output_type": "stream",
     "text": [
      "False\n"
     ]
    }
   ],
   "source": [
    "# Section 6 code : Correct\n",
    "num8 = 0\n",
    "num8 = bool(num8)\n",
    "print(num8)"
   ]
  },
  {
   "cell_type": "markdown",
   "id": "dd641fa9",
   "metadata": {},
   "source": [
    "##### convert to str"
   ]
  },
  {
   "cell_type": "code",
   "execution_count": 54,
   "id": "5116cbe3",
   "metadata": {},
   "outputs": [
    {
     "name": "stdout",
     "output_type": "stream",
     "text": [
      "False\n"
     ]
    }
   ],
   "source": [
    "# Section 1 code : Correct\n",
    "flag = False\n",
    "flag = str(flag)\n",
    "print(flag)"
   ]
  },
  {
   "cell_type": "code",
   "execution_count": 55,
   "metadata": {},
   "outputs": [
    {
     "name": "stdout",
     "output_type": "stream",
     "text": [
      "0.0\n"
     ]
    }
   ],
   "source": [
    "# Section 2 code : Correct\n",
    "num = 0.000\n",
    "num = str(num)\n",
    "print(num)"
   ]
  },
  {
   "cell_type": "markdown",
   "id": "488e01d2",
   "metadata": {},
   "source": [
    "<div style=\"color: white;padding-top:18px;text-align:left;background-color:red;border-radius:15px;border: 1px solid white;\"> \n",
    "    <h4>Question 02 </h4>\n",
    "<p>Explain the results of the following codes step by step, and if there are\n",
    "errors, explain the reason for the error and fix it.</p>\n",
    "\n",
    "</div>"
   ]
  },
  {
   "cell_type": "markdown",
   "id": "f238712d",
   "metadata": {},
   "source": [
    "#### Section 1"
   ]
  },
  {
   "cell_type": "code",
   "execution_count": 29,
   "id": "0d6db2ad",
   "metadata": {},
   "outputs": [
    {
     "ename": "TypeError",
     "evalue": "unsupported operand type(s) for +: 'float' and 'str'",
     "output_type": "error",
     "traceback": [
      "\u001b[0;31m---------------------------------------------------------------------------\u001b[0m",
      "\u001b[0;31mTypeError\u001b[0m                                 Traceback (most recent call last)",
      "\u001b[1;32m/home/armin/Python/Python Learning/Exercises/E 01-02/answer sheet.ipynb Cell 30\u001b[0m line \u001b[0;36m6\n\u001b[1;32m      <a href='vscode-notebook-cell:/home/armin/Python/Python%20Learning/Exercises/E%2001-02/answer%20sheet.ipynb#X10sZmlsZQ%3D%3D?line=3'>4</a>\u001b[0m z \u001b[39m=\u001b[39m y \u001b[39m+\u001b[39m \u001b[39m200\u001b[39m       \u001b[39m# z = 300 + 200 ==> z = 500 and integer\u001b[39;00m\n\u001b[1;32m      <a href='vscode-notebook-cell:/home/armin/Python/Python%20Learning/Exercises/E%2001-02/answer%20sheet.ipynb#X10sZmlsZQ%3D%3D?line=4'>5</a>\u001b[0m a \u001b[39m=\u001b[39m \u001b[39mfloat\u001b[39m(z)      \u001b[39m# cast (convert) z to float (500.0) and asign to a, now a = 500.0 and float\u001b[39;00m\n\u001b[0;32m----> <a href='vscode-notebook-cell:/home/armin/Python/Python%20Learning/Exercises/E%2001-02/answer%20sheet.ipynb#X10sZmlsZQ%3D%3D?line=5'>6</a>\u001b[0m b \u001b[39m=\u001b[39m a \u001b[39m+\u001b[39m x         \u001b[39m# a is float and x ist string, Error: can not add float to string, b is not defeined\u001b[39;00m\n\u001b[1;32m      <a href='vscode-notebook-cell:/home/armin/Python/Python%20Learning/Exercises/E%2001-02/answer%20sheet.ipynb#X10sZmlsZQ%3D%3D?line=6'>7</a>\u001b[0m c \u001b[39m=\u001b[39m \u001b[39mint\u001b[39m(b) \u001b[39m+\u001b[39m \u001b[39m100\u001b[39m\n",
      "\u001b[0;31mTypeError\u001b[0m: unsupported operand type(s) for +: 'float' and 'str'"
     ]
    }
   ],
   "source": [
    "# Section 1 code: Not Correct\n",
    "x = \"300\"         # x = \"300\" x is now String, not digit\n",
    "y = int(x)        # cast (convert) x to an integer and asign to y, now y = 300 and integer\n",
    "z = y + 200       # z = 300 + 200 ==> z = 500 and integer\n",
    "a = float(z)      # cast (convert) z to float (500.0) and asign to a, now a = 500.0 and float\n",
    "b = a + x         # a is float and x ist string, Error: can not add float to string, b is not defeined\n",
    "c = int(b) + 100  # b is not defined, Error\n"
   ]
  },
  {
   "cell_type": "code",
   "execution_count": 56,
   "id": "521fde72",
   "metadata": {},
   "outputs": [
    {
     "name": "stdout",
     "output_type": "stream",
     "text": [
      "a = 500.0 <class 'float'>\n",
      "b = 800.0 <class 'float'>\n",
      "c = 900 <class 'int'>\n"
     ]
    }
   ],
   "source": [
    "# Section 1 code : Correct\n",
    "x = \"300\"         # x = \"300\" , x is now String, not digit\n",
    "x = int(x)        # cast (convert) x to an integer and asign to x, now x = 300 and integer\n",
    "z = x + 200       # z = 300 + 200 ==> z = 500 and integer\n",
    "a = float(z)      # cast (convert) z to float (500.0) and asign to a, now a = 500.0 and float\n",
    "b = a + x         # b = 500.0 + 300 (float + int) ==> (no problem) b = 800.0 and float\n",
    "c = int(b) + 100  # c = int(800.0) + 100 ==> c = 800+100 ==> c = 900 and integer\n",
    "print(\"a =\",a,type(a))\n",
    "print(\"b =\",b,type(b))\n",
    "print(\"c =\",c,type(c))"
   ]
  },
  {
   "cell_type": "code",
   "execution_count": 57,
   "id": "7bad91f7",
   "metadata": {},
   "outputs": [
    {
     "name": "stdout",
     "output_type": "stream",
     "text": [
      "a = 83 <class 'str'>\n",
      "b = 83250 <class 'str'>\n",
      "c = 41625 <class 'int'>\n",
      "x = 250 <class 'str'>\n",
      "y = 250 <class 'int'>\n",
      "z = 83 <class 'int'>\n"
     ]
    }
   ],
   "source": [
    "# Section 2 code : Correct\n",
    "x = \"250\"       # x = \"250\" , x is now String, not digit\n",
    "y = int(x)      # cast (convert) x to an integer and asign to y, now y = 250 and integer\n",
    "z = y // 3      # z = 250 // 3 ==> z = 83 and integer\n",
    "a = str(z)      # cast (convert) z to string and asign to a, now a = \"83\" and string\n",
    "b = a + x       # a and x are string, b = join of(a and x) ==> b = \"83\"+\"250\" ==> b = \"83250\" and string\n",
    "c = int(b) // 2 # cast (convert) b to an integer (83250) than 83250 // 2 ==> now c = 41625 and integer\n",
    "print(\"a =\",a,type(a))\n",
    "print(\"b =\",b,type(b))\n",
    "print(\"c =\",c,type(c))\n",
    "print(\"x =\",x,type(x))\n",
    "print(\"y =\",y,type(y))\n",
    "print(\"z =\",z,type(z))"
   ]
  },
  {
   "cell_type": "markdown",
   "id": "3c985307",
   "metadata": {},
   "source": [
    "<div style=\"color: white;padding-top:18px;text-align:left;background-color:red;border-radius:15px;border: 1px solid white;\"> \n",
    "    <h4>Question 03 </h4>\n",
    "<p>Prompt the user for a string. Output True for \"yes\" or \"no” inputs, and False for\n",
    "all other inputs, without using conditional statements.</p>\n",
    "\n",
    "</div>"
   ]
  },
  {
   "cell_type": "code",
   "execution_count": 59,
   "id": "708b411c",
   "metadata": {},
   "outputs": [
    {
     "name": "stdout",
     "output_type": "stream",
     "text": [
      "True\n"
     ]
    }
   ],
   "source": [
    "answer1 = input(\"Please say your answer (Yes/No): \").lower()\n",
    "result1 = False\n",
    "result1 = answer1 == \"yes\" or answer1 == \"no\"\n",
    "print(result1)       # For example input is \"Yes\"\n"
   ]
  },
  {
   "cell_type": "markdown",
   "id": "151a3fc5",
   "metadata": {},
   "source": [
    "<div style=\"color: white;padding-top:18px;text-align:left;background-color:red;border-radius:15px;border: 1px solid white;\"> \n",
    "    <h4>Question 04 </h4>\n",
    "<p>Prompt the user to enter a string. Print True if the string is non-empty\n",
    "and False otherwise, without using any conditional statements (if, elif, else).</p>\n",
    "\n",
    "</div>"
   ]
  },
  {
   "cell_type": "code",
   "execution_count": 61,
   "id": "c98a1cd3",
   "metadata": {},
   "outputs": [
    {
     "name": "stdout",
     "output_type": "stream",
     "text": [
      "True\n"
     ]
    }
   ],
   "source": [
    "answer2 = input(\"Please Enter or type something: \")\n",
    "result2 = True\n",
    "result2 = answer2 != \"\"\n",
    "print(result2)      # For example input is \"pp\" "
   ]
  },
  {
   "cell_type": "markdown",
   "id": "9de1dd40",
   "metadata": {},
   "source": [
    "<div style=\"color: white;padding-top:18px;text-align:left;background-color:red;border-radius:15px;border: 1px solid white;\"> \n",
    "    <h4>Question 05 </h4>\n",
    "<p>write a program that prompts the user to enter a temperature in Celsius. Your\n",
    "program should then convert this temperature to Fahrenheit and print the result.</p>\n",
    "\n",
    "</div>"
   ]
  },
  {
   "cell_type": "code",
   "execution_count": 62,
   "id": "3cf76a64",
   "metadata": {},
   "outputs": [
    {
     "name": "stdout",
     "output_type": "stream",
     "text": [
      "your temperatur in farnheit is  212.0\n"
     ]
    }
   ],
   "source": [
    "answer3 = input(\"Please enter a temperature in Celsius: \")\n",
    "result3 = float(answer3) * 1.8 + 32\n",
    "print( \"your temperatur in farnheit is \", result3)   # For example input is 45.6\n"
   ]
  },
  {
   "cell_type": "markdown",
   "id": "0e2c870c",
   "metadata": {},
   "source": [
    "<div style=\"color: white;padding-top:18px;text-align:left;background-color:red;border-radius:15px;border: 1px solid white;\"> \n",
    "    <h4>Question 06 </h4>\n",
    "<p>Explain the results of the following codes, and if there are errors, explain\n",
    "the reason for the error and fix it.\n",
    "</p>\n",
    "\n",
    "</div>"
   ]
  },
  {
   "cell_type": "code",
   "execution_count": 63,
   "id": "623d8c84",
   "metadata": {},
   "outputs": [
    {
     "name": "stdout",
     "output_type": "stream",
     "text": [
      "num1 = 17 <class 'int'>\n",
      "num2 = 1.8 <class 'float'>\n",
      "num3 = 28 <class 'int'>\n"
     ]
    }
   ],
   "source": [
    "# Section 1: Correct\n",
    "num1, num2, num3 = 17, 1.8, 28    # man can asign many variables with different types with these form\n",
    "print(\"num1 =\",num1,type(num1))   # num1 = 17 and int\n",
    "print(\"num2 =\",num2,type(num2))   # num2 = 1.8 and float\n",
    "print(\"num3 =\",num3,type(num3))   # num3 = 28 and int"
   ]
  },
  {
   "cell_type": "code",
   "execution_count": 64,
   "id": "4c8102d7",
   "metadata": {},
   "outputs": [
    {
     "ename": "ValueError",
     "evalue": "too many values to unpack (expected 2)",
     "output_type": "error",
     "traceback": [
      "\u001b[0;31m---------------------------------------------------------------------------\u001b[0m",
      "\u001b[0;31mValueError\u001b[0m                                Traceback (most recent call last)",
      "\u001b[1;32m/home/armin/Python/Python Learning/Exercises/E 01-02/answer sheet.ipynb Cell 41\u001b[0m line \u001b[0;36m2\n\u001b[1;32m      <a href='vscode-notebook-cell:/home/armin/Python/Python%20Learning/Exercises/E%2001-02/answer%20sheet.ipynb#X23sZmlsZQ%3D%3D?line=0'>1</a>\u001b[0m \u001b[39m# Section 2:(not Correct)\u001b[39;00m\n\u001b[0;32m----> <a href='vscode-notebook-cell:/home/armin/Python/Python%20Learning/Exercises/E%2001-02/answer%20sheet.ipynb#X23sZmlsZQ%3D%3D?line=1'>2</a>\u001b[0m num4, num5 \u001b[39m=\u001b[39m \u001b[39m45\u001b[39m, \u001b[39m12\u001b[39m, \u001b[39m19\u001b[39m\n",
      "\u001b[0;31mValueError\u001b[0m: too many values to unpack (expected 2)"
     ]
    }
   ],
   "source": [
    "# Section 2:(not Correct)\n",
    "num4, num5 = 45, 12, 19 # 2 varibles and 3 values!! Error, the number of Variebles and values must be equal\n",
    "                        # hier 2 Variables and 3 results (not equal) ==> Error!!"
   ]
  },
  {
   "cell_type": "markdown",
   "id": "8d033d86",
   "metadata": {},
   "source": [
    "<h2 style=\"color: blue:; background-color: purple\">Good luck</h2>"
   ]
  }
 ],
 "metadata": {
  "kernelspec": {
   "display_name": "Python 3 (ipykernel)",
   "language": "python",
   "name": "python3"
  },
  "language_info": {
   "codemirror_mode": {
    "name": "ipython",
    "version": 3
   },
   "file_extension": ".py",
   "mimetype": "text/x-python",
   "name": "python",
   "nbconvert_exporter": "python",
   "pygments_lexer": "ipython3",
   "version": "3.11.4"
  }
 },
 "nbformat": 4,
 "nbformat_minor": 5
}
