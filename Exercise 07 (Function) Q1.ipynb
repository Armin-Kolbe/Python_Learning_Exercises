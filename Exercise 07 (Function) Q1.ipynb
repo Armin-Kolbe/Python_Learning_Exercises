{
 "cells": [
  {
   "cell_type": "markdown",
   "id": "ead54e1a",
   "metadata": {},
   "source": [
    "<div style=\"color: white;padding-top:18px;text-align:center;background-color:#610C9F;border-radius:15px;border: 1px solid white;\"> \n",
    "    <h3>Exercise 7 (Function)</h3>\n",
    "</div>"
   ]
  },
  {
   "cell_type": "markdown",
   "id": "9986a78d",
   "metadata": {},
   "source": [
    "<div style=\"color: white;padding-top:18px;text-align:left;background-color:#940B92;border-radius:15px;border: 1px solid white;\"> \n",
    "    <h4>Question 01</h4>\n",
    "    <p>define two lists that one of them is strings and another is float, change values of \n",
    "both of them to int and create a list that is sum of them. use map function and \n",
    "lambda.\n",
    "</p>\n",
    "</div>"
   ]
  },
  {
   "cell_type": "code",
   "execution_count": 4,
   "id": "7710ae23",
   "metadata": {},
   "outputs": [
    {
     "name": "stdout",
     "output_type": "stream",
     "text": [
      "[53, 28, 42, 47, 81, 60, 33, 44]\n"
     ]
    }
   ],
   "source": [
    "sumlist = lambda a, b: a + b\n",
    "\n",
    "list1 = [\"12.3\", \"13.8\",\"15.54\", \"24.12\",\"27.3\",\"31.7\", \"21.7\", \"10.78\"]\n",
    "list2 = [41.2, 15.5, 27.67, 23.23, 54.13, 29.45, 12.27, 34.27]\n",
    "\n",
    "intlist1 = map(float, list1)\n",
    "intlist1 = map(int, intlist1)\n",
    "\n",
    "intlist2 = map(int, list2)\n",
    "\n",
    "sumlist = list(map(sumlist, intlist1, intlist2))\n",
    "\n",
    "print(sumlist)\n",
    "\n"
   ]
  }
 ],
 "metadata": {
  "kernelspec": {
   "display_name": "Python 3 (ipykernel)",
   "language": "python",
   "name": "python3"
  },
  "language_info": {
   "codemirror_mode": {
    "name": "ipython",
    "version": 3
   },
   "file_extension": ".py",
   "mimetype": "text/x-python",
   "name": "python",
   "nbconvert_exporter": "python",
   "pygments_lexer": "ipython3",
   "version": "3.11.4"
  }
 },
 "nbformat": 4,
 "nbformat_minor": 5
}
