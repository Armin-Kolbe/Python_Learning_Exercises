{
 "cells": [
  {
   "cell_type": "markdown",
   "id": "ead54e1a",
   "metadata": {},
   "source": [
    "<div style=\"color: white;padding-top:18px;text-align:center;background-color:#610C9F;border-radius:15px;border: 1px solid white;\"> \n",
    "    <h3>Exercise 5 (List)</h3>\n",
    "</div>"
   ]
  },
  {
   "cell_type": "markdown",
   "id": "9986a78d",
   "metadata": {},
   "source": [
    "<div style=\"color: white;padding-top:18px;text-align:left;background-color:#940B92;border-radius:15px;border: 1px solid white;\"> \n",
    "    <h4>Question 01 </h4>\n",
    "    <p>Create a Python program that first prompts the user to enter 10 numbers, which are then \n",
    "stored in a list. Subsequently, request the user to input a new number. If this new number \n",
    "is present in the list, remove all occurrences of it. if it's not found, insert the number twice \n",
    "at the beginning of the list. Finally, display the modified list to the user\n",
    "</p>\n",
    "</div>"
   ]
  },
  {
   "cell_type": "code",
   "execution_count": 5,
   "id": "3653b2c5",
   "metadata": {},
   "outputs": [
    {
     "name": "stdout",
     "output_type": "stream",
     "text": [
      " The your entered list is: ['1.2', '2.3', '3.4', '4.5', '1.2', '2.3', '3.4', '2.3', '3.4', '3.4']\n",
      " The changed list is: ['1.2', '3.4', '4.5', '1.2', '3.4', '3.4', '3.4']\n"
     ]
    }
   ],
   "source": [
    "def isfloat(num):\n",
    "    try:\n",
    "        float(num)\n",
    "        return True\n",
    "    except ValueError:\n",
    "        return False\n",
    "\n",
    "numbers = []\n",
    "new_numbers =[]\n",
    "for i in range(10):\n",
    "    n = input(f\"Please enter 10 numbers: the number {i+1} or press x to exit: \")\n",
    "    if n.lower() == \"x\":\n",
    "        break\n",
    "    while not isfloat(n):\n",
    "        print(\"Error: You didn't enter number!\")\n",
    "        n = input(f\"Please enter the number {i+1} correct or press x to exit: \")\n",
    "        if n.lower() == \"x\":\n",
    "            break\n",
    "    numbers.append(n)\n",
    "\n",
    "new_number = input(\"Please enter a new Number: \")\n",
    "if new_number in numbers:\n",
    "    for j in range(len(numbers)):\n",
    "        if numbers[j] != new_number:\n",
    "            new_numbers.append(numbers[j])\n",
    "else:\n",
    "    new_numbers = numbers.copy()\n",
    "    new_numbers.insert(0,new_number)\n",
    "    new_numbers.insert(0,new_number)\n",
    "\n",
    "print(f\" The your entered list is: {numbers}\")\n",
    "print(f\" The changed list is: {new_numbers}\")\n",
    "\n"
   ]
  },
  {
   "cell_type": "markdown",
   "id": "488e01d2",
   "metadata": {},
   "source": [
    "<div style=\"color: white;padding-top:18px;text-align:left;background-color:#940B92;border-radius:15px;border: 1px solid white;\"> \n",
    "    <h4>Question 02</h4>\n",
    "<p>\n",
    " Create a Python program that sorts elements from a list containing multiple data types—\n",
    "such as integers, floats, strings, and booleans—into lists of specific types. The program \n",
    "must iterate through the original mixed list, identifying the type of each element and \n",
    "adding it to the corresponding list assigned to that particular data type.\n",
    "\n",
    "</p>\n",
    "\n",
    "</div>"
   ]
  },
  {
   "cell_type": "code",
   "execution_count": 6,
   "id": "0d6db2ad",
   "metadata": {},
   "outputs": [
    {
     "name": "stdout",
     "output_type": "stream",
     "text": [
      "My List is: [34, 54.5, 'A', True, 'Hasan', 78, 43, None, False, 13.5, True, 'ABC', 29.4, 12, 'at']\n",
      "The Integer numbers: [34, 78, 43, 12]\n",
      "The float numbers: [54.5, 13.5, 29.4]\n",
      "The boolean: [True, False, True]\n",
      "The srings: ['A', 'Hasan', 'ABC', 'at']\n",
      "The other Types: [None]\n"
     ]
    }
   ],
   "source": [
    "mylist = [34, 54.5, \"A\", True, \"Hasan\", 78, 43 , None, False, 13.5, True, \"ABC\", 29.4, 12, \"at\"]\n",
    "mylist_int = []\n",
    "mylist_float = []\n",
    "mylist_boolean = []\n",
    "mylist_string = []\n",
    "other_types = []\n",
    "for i in mylist:\n",
    "    if type(i) == int:\n",
    "        mylist_int.append(i)\n",
    "    elif type(i) == str:\n",
    "        mylist_string.append(i)\n",
    "    elif type(i) == float:\n",
    "        mylist_float.append(i)\n",
    "    elif type(i) == bool:\n",
    "        mylist_boolean.append(i)\n",
    "    else:\n",
    "        other_types.append(i)\n",
    "print(f\"My List is: {mylist}\")\n",
    "print(f\"The Integer numbers: {mylist_int}\")\n",
    "print(f\"The float numbers: {mylist_float}\")\n",
    "print(f\"The boolean: {mylist_boolean}\")\n",
    "print(f\"The srings: {mylist_string}\")\n",
    "print(f\"The other Types: {other_types}\")"
   ]
  },
  {
   "cell_type": "markdown",
   "id": "8d033d86",
   "metadata": {},
   "source": [
    "<h2 style=\"color: blue:; background-color: #E95793; margin-left:50px\">Good luck</h2>"
   ]
  }
 ],
 "metadata": {
  "kernelspec": {
   "display_name": "Python 3 (ipykernel)",
   "language": "python",
   "name": "python3"
  },
  "language_info": {
   "codemirror_mode": {
    "name": "ipython",
    "version": 3
   },
   "file_extension": ".py",
   "mimetype": "text/x-python",
   "name": "python",
   "nbconvert_exporter": "python",
   "pygments_lexer": "ipython3",
   "version": "3.11.4"
  }
 },
 "nbformat": 4,
 "nbformat_minor": 5
}
